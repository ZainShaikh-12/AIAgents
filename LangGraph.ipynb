{
  "nbformat": 4,
  "nbformat_minor": 0,
  "metadata": {
    "colab": {
      "provenance": [],
      "authorship_tag": "ABX9TyOwV30udHAwllC2xOPsHBPW",
      "include_colab_link": true
    },
    "kernelspec": {
      "name": "python3",
      "display_name": "Python 3"
    },
    "language_info": {
      "name": "python"
    }
  },
  "cells": [
    {
      "cell_type": "markdown",
      "metadata": {
        "id": "view-in-github",
        "colab_type": "text"
      },
      "source": [
        "<a href=\"https://colab.research.google.com/github/ZainShaikh-12/AIAgents/blob/main/LangGraph.ipynb\" target=\"_parent\"><img src=\"https://colab.research.google.com/assets/colab-badge.svg\" alt=\"Open In Colab\"/></a>"
      ]
    },
    {
      "cell_type": "markdown",
      "source": [
        "Setup your API-Keys"
      ],
      "metadata": {
        "id": "HashUuiKvykw"
      }
    },
    {
      "cell_type": "code",
      "execution_count": null,
      "metadata": {
        "id": "b38dpDEiatcA"
      },
      "outputs": [],
      "source": [
        "from google.colab import userdata"
      ]
    },
    {
      "cell_type": "code",
      "source": [
        "LANGCHAIN_API_KEY = userdata.get('LANGCHAIN_API_KEY')\n",
        "GEMINI_API_KEY = userdata.get('GEMINI_API_KEY')\n",
        "TAVILY_API_KEY = userdata.get('TAVILY_API_KEY')\n",
        "GOOGLE_API_KEY = userdata.get('GOOGLE_API_KEY')"
      ],
      "metadata": {
        "id": "jXG5P0poeT6P"
      },
      "execution_count": null,
      "outputs": []
    },
    {
      "cell_type": "code",
      "source": [
        "import os\n",
        "os.environ['LANGCHAIN_API_KEY'] = LANGCHAIN_API_KEY\n",
        "os.environ['lANGCHAIN_TRACING_V@'] = 'true'\n",
        "os.environ['LANGCHAIN_PROJECT'] = \"Langgraph_Tutorial\"\n",
        "os.environ['GOOGLE_API_KEY'] = GOOGLE_API_KEY\n"
      ],
      "metadata": {
        "id": "on158-yvwwa3"
      },
      "execution_count": null,
      "outputs": []
    },
    {
      "cell_type": "markdown",
      "source": [
        "Install requried packages"
      ],
      "metadata": {
        "id": "0ltJxptvv5bR"
      }
    },
    {
      "cell_type": "code",
      "source": [
        "\n",
        "%pip install --quiet -U langgraph langchain-google-genai langchain_core -U langsmith\n"
      ],
      "metadata": {
        "id": "wik-TYhIwAqw",
        "colab": {
          "base_uri": "https://localhost:8080/"
        },
        "outputId": "879b4aa7-c84b-4741-e74e-a44d80e7668c"
      },
      "execution_count": null,
      "outputs": [
        {
          "output_type": "stream",
          "name": "stdout",
          "text": [
            "\u001b[2K     \u001b[90m━━━━━━━━━━━━━━━━━━━━━━━━━━━━━━━━━━━━━━━━\u001b[0m \u001b[32m50.4/50.4 kB\u001b[0m \u001b[31m2.8 MB/s\u001b[0m eta \u001b[36m0:00:00\u001b[0m\n",
            "\u001b[2K   \u001b[90m━━━━━━━━━━━━━━━━━━━━━━━━━━━━━━━━━━━━━━━━\u001b[0m \u001b[32m106.5/106.5 kB\u001b[0m \u001b[31m5.4 MB/s\u001b[0m eta \u001b[36m0:00:00\u001b[0m\n",
            "\u001b[2K   \u001b[90m━━━━━━━━━━━━━━━━━━━━━━━━━━━━━━━━━━━━━━━━\u001b[0m \u001b[32m400.9/400.9 kB\u001b[0m \u001b[31m19.1 MB/s\u001b[0m eta \u001b[36m0:00:00\u001b[0m\n",
            "\u001b[2K   \u001b[90m━━━━━━━━━━━━━━━━━━━━━━━━━━━━━━━━━━━━━━━━\u001b[0m \u001b[32m292.2/292.2 kB\u001b[0m \u001b[31m18.8 MB/s\u001b[0m eta \u001b[36m0:00:00\u001b[0m\n",
            "\u001b[2K   \u001b[90m━━━━━━━━━━━━━━━━━━━━━━━━━━━━━━━━━━━━━━━━\u001b[0m \u001b[32m76.4/76.4 kB\u001b[0m \u001b[31m5.3 MB/s\u001b[0m eta \u001b[36m0:00:00\u001b[0m\n",
            "\u001b[2K   \u001b[90m━━━━━━━━━━━━━━━━━━━━━━━━━━━━━━━━━━━━━━━━\u001b[0m \u001b[32m78.0/78.0 kB\u001b[0m \u001b[31m5.7 MB/s\u001b[0m eta \u001b[36m0:00:00\u001b[0m\n",
            "\u001b[2K   \u001b[90m━━━━━━━━━━━━━━━━━━━━━━━━━━━━━━━━━━━━━━━━\u001b[0m \u001b[32m141.9/141.9 kB\u001b[0m \u001b[31m9.0 MB/s\u001b[0m eta \u001b[36m0:00:00\u001b[0m\n",
            "\u001b[2K   \u001b[90m━━━━━━━━━━━━━━━━━━━━━━━━━━━━━━━━━━━━━━━━\u001b[0m \u001b[32m378.0/378.0 kB\u001b[0m \u001b[31m24.6 MB/s\u001b[0m eta \u001b[36m0:00:00\u001b[0m\n",
            "\u001b[2K   \u001b[90m━━━━━━━━━━━━━━━━━━━━━━━━━━━━━━━━━━━━━━━━\u001b[0m \u001b[32m58.3/58.3 kB\u001b[0m \u001b[31m3.7 MB/s\u001b[0m eta \u001b[36m0:00:00\u001b[0m\n",
            "\u001b[?25h"
          ]
        }
      ]
    },
    {
      "cell_type": "markdown",
      "source": [
        "# State\n",
        "the first thing you do when you define a graph is define the state of graph.The State schema serves as the input schema for all nodes and Edges in the graph.This example uses a simple dictionary structure with a single key \"graph_state\" of type str"
      ],
      "metadata": {
        "id": "8QPZ5tS1MCBi"
      }
    },
    {
      "cell_type": "code",
      "source": [
        "from typing import TypedDict\n",
        "\n",
        "class State(TypedDict):\n",
        "    graph_state: str"
      ],
      "metadata": {
        "id": "Y-w-irINNWkP"
      },
      "execution_count": null,
      "outputs": []
    },
    {
      "cell_type": "markdown",
      "source": [
        "# Nodes\n",
        "Nodes are just python functions.\n",
        "The first positional argument is the state, as defined above.\n",
        "Each node operates on the state.\n",
        "By default, each node will also override the prior state value"
      ],
      "metadata": {
        "id": "XHf0hHKrOSjx"
      }
    },
    {
      "cell_type": "code",
      "source": [
        "def node_1(state):\n",
        "  print(\"Node 1\")\n",
        "  return {\"graph_state\": state[\"graph_state\"] + \"I am\"}\n",
        "\n",
        "def node_2(state):\n",
        "  print(\"Node 2\")\n",
        "  return {\"graph_state\": state[\"graph_state\"] + \" Happy\"}\n",
        "\n",
        "def node_3(state):\n",
        "  print(\"Node 3\")\n",
        "  return {\"graph_state\": state[\"graph_state\"] + \" Sad\"}"
      ],
      "metadata": {
        "id": "JHvN34vYORvg"
      },
      "execution_count": null,
      "outputs": []
    },
    {
      "cell_type": "markdown",
      "source": [
        "# Edges\n",
        "Edges simply connect the nodes.\n",
        "Normal Edges are used if you want to always go from, for example node_1 to node_2.\n",
        "Conditional Edges are used want to optionally route-between nodes.\n",
        "The conditional edge is implemented as a function that returns the next node to visit base upon some logic"
      ],
      "metadata": {
        "id": "ZBj7vhRdPc4k"
      }
    },
    {
      "cell_type": "code",
      "source": [
        "import random\n",
        "from typing import Literal\n",
        "\n",
        "def decide_mood(state) -> Literal[\"node_2\", \"node_3\"]:\n",
        "\n",
        "  # Often, we will use state to decide on the next node to visit\n",
        "  user_input = state['graph_state']\n",
        "\n",
        "  # Here, let's just do a 50/50 split between nodes 2, 3\n",
        "  if random.random() < 0.5:\n",
        "\n",
        "    #50% of the time, we return Node 2\n",
        "    return \"node_2\"\n",
        "  #50% of the time, we return Node 3\n",
        "  return \"node_3\""
      ],
      "metadata": {
        "id": "g1x8CLTHPgNV"
      },
      "execution_count": null,
      "outputs": []
    },
    {
      "cell_type": "markdown",
      "source": [
        "# Graph Construction\n",
        "\n",
        "Now, we build the graph from our components!\n",
        "* The (StateGraph) class is the main graph class to use which is imported from langgraph.graph.\n",
        "First, we initialize a (StateGraph) with the (State) class we defined above.\n",
        "Then, we add our nodes and edges.\n",
        "* We use the (Start) Node, a special node that sends user input to the graph, to indicate where to start our graph.\n",
        "* The (End) Node is a special node that represents a terminal node.\n",
        "Compile our graph to perform a few basic checks about the structure of your graph (no orphand nodes, etc)"
      ],
      "metadata": {
        "id": "y61MQdYBSvgr"
      }
    },
    {
      "cell_type": "code",
      "source": [
        "from IPython.display import Image, display\n",
        "from langgraph.graph import StateGraph, START, END\n",
        "\n",
        "#Build graph\n",
        "\n",
        "builder = StateGraph(State)\n",
        "builder.add_node(\"node_1\", node_1)\n",
        "builder.add_node(\"node_2\", node_2)\n",
        "builder.add_node(\"node_3\", node_3)\n",
        "\n",
        "#Logic\n",
        "\n",
        "builder.add_edge(START, \"node_1\")\n",
        "builder.add_conditional_edges(\"node_1\", decide_mood)\n",
        "builder.add_edge(\"node_2\", END)\n",
        "builder.add_edge(\"node_3\", END)\n",
        "\n",
        "graph = builder.compile()\n"
      ],
      "metadata": {
        "id": "BU5Ikcz_WC1K"
      },
      "execution_count": null,
      "outputs": []
    },
    {
      "cell_type": "code",
      "source": [
        "graph.invoke({\"graph_state\": \"Hi, this is Shaikh.\"})"
      ],
      "metadata": {
        "colab": {
          "base_uri": "https://localhost:8080/"
        },
        "id": "eq6gnXFcDuEL",
        "outputId": "dcce3340-58c6-463a-e4d9-977def7fb58c"
      },
      "execution_count": null,
      "outputs": [
        {
          "output_type": "stream",
          "name": "stdout",
          "text": [
            "Node 1\n",
            "Node 2\n"
          ]
        },
        {
          "output_type": "execute_result",
          "data": {
            "text/plain": [
              "{'graph_state': 'Hi, this is Shaikh.I am Happy'}"
            ]
          },
          "metadata": {},
          "execution_count": 73
        }
      ]
    },
    {
      "cell_type": "code",
      "source": [
        "from IPython.display import Image, display\n",
        "try:\n",
        "    display(Image(graph.get_graph().draw_mermaid_png()))\n",
        "except Exception:\n",
        "    pass"
      ],
      "metadata": {
        "colab": {
          "base_uri": "https://localhost:8080/",
          "height": 350
        },
        "id": "5j3Uo3VMLGBL",
        "outputId": "303af6cb-a2d7-42de-cb50-0894f3004bb6"
      },
      "execution_count": null,
      "outputs": [
        {
          "output_type": "display_data",
          "data": {
            "image/jpeg": "[encoded data removed]",
            "text/plain": [
              "<IPython.core.display.Image object>"
            ]
          },
          "metadata": {}
        }
      ]
    },
    {
      "cell_type": "markdown",
      "source": [
        "# Chain\n",
        "We built a simple graph with nodes, normal edges, and conditional edges\n",
        "\n",
        "# Goals\n",
        "Now let's build up to a simple chain that combines 4 key concepts:\n",
        "* Using chat messages in our graph\n",
        "* using chat models\n",
        "* binding tools to our LLM\n",
        "* Executing tool calls in our graph"
      ],
      "metadata": {
        "id": "WI0P671VQa3L"
      }
    },
    {
      "cell_type": "markdown",
      "source": [
        "# Messages\n",
        "Chat models can use messages, which capture different roles within a conversation.\n",
        "Langchain supports various message types, including HumanMEssage, AIMessage, SystemMessage, and ToolMessage.\n",
        "These represent a message from the user, from chat model, for the chat model to instruct behavior, and from a tool call.\n"
      ],
      "metadata": {
        "id": "f7NlGpUHRa59"
      }
    },
    {
      "cell_type": "markdown",
      "source": [
        "Let's create a list of messages. Each message can be supplied with a few things:\n",
        "\n",
        "* content-content of the message\n",
        "* name-optionally, who is creating the message\n",
        "* response_metadata-optionally,a dict of metadata that is often specific to each model provider"
      ],
      "metadata": {
        "id": "wAwIJWq_SFLn"
      }
    },
    {
      "cell_type": "code",
      "source": [
        "from pprint import pprint\n",
        "from langchain_core.messages import HumanMessage, AIMessage, SystemMessage\n",
        "\n",
        "\n",
        "messages = [AIMessage(content=f\"So you said you were researching ocean mammals?\", name=\"Model\")]\n",
        "messages.append(HumanMessage(content=f\"Yes, that's right.\",name=\"Lance\"))\n",
        "messages.append(AIMessage(content=f\"Great, what would you like to learn about.\", name=\"Model\"))\n",
        "messages.append(HumanMessage(content=f\"I want to learn about the best place to see Orcas in the US.\", name=\"Lance\"))\n",
        "\n",
        "for m in messages:\n",
        "    m.pretty_print()"
      ],
      "metadata": {
        "colab": {
          "base_uri": "https://localhost:8080/"
        },
        "id": "3nywX8QHSoxR",
        "outputId": "9856a408-f1d1-4dc8-ca02-280d45b72372"
      },
      "execution_count": null,
      "outputs": [
        {
          "output_type": "stream",
          "name": "stdout",
          "text": [
            "==================================\u001b[1m Ai Message \u001b[0m==================================\n",
            "Name: Model\n",
            "\n",
            "So you said you were researching ocean mammals?\n",
            "================================\u001b[1m Human Message \u001b[0m=================================\n",
            "Name: Lance\n",
            "\n",
            "Yes, that's right.\n",
            "==================================\u001b[1m Ai Message \u001b[0m==================================\n",
            "Name: Model\n",
            "\n",
            "Great, what would you like to learn about.\n",
            "================================\u001b[1m Human Message \u001b[0m=================================\n",
            "Name: Lance\n",
            "\n",
            "I want to learn about the best place to see Orcas in the US.\n"
          ]
        }
      ]
    },
    {
      "cell_type": "code",
      "source": [
        "from langchain_google_genai import ChatGoogleGenerativeAI\n",
        "\n",
        "llm = ChatGoogleGenerativeAI(model=\"gemini-pro\", api_key=GEMINI_API_KEY)\n",
        "result = llm.invoke(messages)\n",
        "type(result)"
      ],
      "metadata": {
        "colab": {
          "base_uri": "https://localhost:8080/",
          "height": 204
        },
        "id": "-FmdYRR4Xs7Z",
        "outputId": "53955ca9-9667-4ec0-e4ce-768b0eddd53e"
      },
      "execution_count": null,
      "outputs": [
        {
          "output_type": "execute_result",
          "data": {
            "text/plain": [
              "langchain_core.messages.ai.AIMessage"
            ],
            "text/html": [
              "<div style=\"max-width:800px; border: 1px solid var(--colab-border-color);\"><style>\n",
              "      pre.function-repr-contents {\n",
              "        overflow-x: auto;\n",
              "        padding: 8px 12px;\n",
              "        max-height: 500px;\n",
              "      }\n",
              "\n",
              "      pre.function-repr-contents.function-repr-contents-collapsed {\n",
              "        cursor: pointer;\n",
              "        max-height: 100px;\n",
              "      }\n",
              "    </style>\n",
              "    <pre style=\"white-space: initial; background:\n",
              "         var(--colab-secondary-surface-color); padding: 8px 12px;\n",
              "         border-bottom: 1px solid var(--colab-border-color);\"><b>langchain_core.messages.ai.AIMessage</b><br/>def __init__(content: Union[str, list[Union[str, dict]]], **kwargs: Any) -&gt; None</pre><pre class=\"function-repr-contents function-repr-contents-collapsed\" style=\"\"><a class=\"filepath\" style=\"display:none\" href=\"#\">/usr/local/lib/python3.10/dist-packages/langchain_core/messages/ai.py</a>Message from an AI.\n",
              "\n",
              "AIMessage is returned from a chat model as a response to a prompt.\n",
              "\n",
              "This message represents the output of the model and consists of both\n",
              "the raw output as returned by the model together standardized fields\n",
              "(e.g., tool calls, usage metadata) added by the LangChain framework.</pre>\n",
              "      <script>\n",
              "      if (google.colab.kernel.accessAllowed && google.colab.files && google.colab.files.view) {\n",
              "        for (const element of document.querySelectorAll('.filepath')) {\n",
              "          element.style.display = 'block'\n",
              "          element.onclick = (event) => {\n",
              "            event.preventDefault();\n",
              "            event.stopPropagation();\n",
              "            google.colab.files.view(element.textContent, 56);\n",
              "          };\n",
              "        }\n",
              "      }\n",
              "      for (const element of document.querySelectorAll('.function-repr-contents')) {\n",
              "        element.onclick = (event) => {\n",
              "          event.preventDefault();\n",
              "          event.stopPropagation();\n",
              "          element.classList.toggle('function-repr-contents-collapsed');\n",
              "        };\n",
              "      }\n",
              "      </script>\n",
              "      </div>"
            ]
          },
          "metadata": {},
          "execution_count": 58
        }
      ]
    },
    {
      "cell_type": "markdown",
      "source": [
        "# Tools\n",
        "Tools are needed whenever you want a model to control parts of your code or call out external APIs.Many LLM providers support tool calling.The tool calling interface in langchain is simple.\n",
        "you can pass any Python function into ChatModel.bind_tools()"
      ],
      "metadata": {
        "id": "mEl5vrw1ZPpy"
      }
    },
    {
      "cell_type": "code",
      "source": [
        "def multiply(a: int, b:int ) -> int:\n",
        "  \"\"\"Multiply a and b\n",
        "\n",
        "  Args:\n",
        "     a: first int\n",
        "     b: second int\n",
        "  \"\"\"\n",
        "  return a * b\n",
        "\n",
        "llm_with_tools = llm.bind_tools([multiply])"
      ],
      "metadata": {
        "colab": {
          "base_uri": "https://localhost:8080/"
        },
        "id": "Mw4HtikGazUB",
        "outputId": "73a80782-bd92-4864-a603-189aed4c0332"
      },
      "execution_count": null,
      "outputs": [
        {
          "output_type": "stream",
          "name": "stderr",
          "text": [
            "WARNING:langchain_google_genai._function_utils:Key 'title' is not supported in schema, ignoring\n",
            "WARNING:langchain_google_genai._function_utils:Key 'title' is not supported in schema, ignoring\n",
            "WARNING:langchain_google_genai._function_utils:Key 'title' is not supported in schema, ignoring\n"
          ]
        }
      ]
    },
    {
      "cell_type": "code",
      "source": [
        "\n",
        "tool_call = llm_with_tools.invoke([HumanMessage(content=f\"What is 2 multiplied by 3\", name=\"Lance\")])\n",
        "tool_call"
      ],
      "metadata": {
        "colab": {
          "base_uri": "https://localhost:8080/"
        },
        "id": "thmgIHOOgZrO",
        "outputId": "c2d81318-be69-4e07-c4a4-cb8034236e87"
      },
      "execution_count": null,
      "outputs": [
        {
          "output_type": "execute_result",
          "data": {
            "text/plain": [
              "AIMessage(content='', additional_kwargs={'function_call': {'name': 'multiply', 'arguments': '{\"b\": 3.0, \"a\": 2.0}'}}, response_metadata={'prompt_feedback': {'block_reason': 0, 'safety_ratings': []}, 'finish_reason': 'STOP', 'safety_ratings': [{'category': 'HARM_CATEGORY_HATE_SPEECH', 'probability': 'NEGLIGIBLE', 'blocked': False}, {'category': 'HARM_CATEGORY_SEXUALLY_EXPLICIT', 'probability': 'NEGLIGIBLE', 'blocked': False}, {'category': 'HARM_CATEGORY_DANGEROUS_CONTENT', 'probability': 'NEGLIGIBLE', 'blocked': False}, {'category': 'HARM_CATEGORY_HARASSMENT', 'probability': 'NEGLIGIBLE', 'blocked': False}]}, id='run-ee328273-2795-4766-90b5-0679d00df671-0', tool_calls=[{'name': 'multiply', 'args': {'b': 3.0, 'a': 2.0}, 'id': 'b33da22a-37f8-4e29-b71f-ff04c1d32741', 'type': 'tool_call'}], usage_metadata={'input_tokens': 70, 'output_tokens': 18, 'total_tokens': 88})"
            ]
          },
          "metadata": {},
          "execution_count": 62
        }
      ]
    },
    {
      "cell_type": "code",
      "source": [
        "tool_call.additional_kwargs['function_call']\n"
      ],
      "metadata": {
        "colab": {
          "base_uri": "https://localhost:8080/"
        },
        "id": "ehki10Ykg3_t",
        "outputId": "e0bfb545-e4a7-4619-fcbc-8db63ed2e49d"
      },
      "execution_count": null,
      "outputs": [
        {
          "output_type": "execute_result",
          "data": {
            "text/plain": [
              "{'name': 'multiply', 'arguments': '{\"b\": 3.0, \"a\": 2.0}'}"
            ]
          },
          "metadata": {},
          "execution_count": 66
        }
      ]
    },
    {
      "cell_type": "markdown",
      "source": [
        "# Using messages as state\n",
        "\n",
        "when these foundations in place, we can now use messages in our graph state.\n",
        "Let's define our state MEssagesState.\n",
        "its defined as a TypedDict with a single key: messages.\n",
        "messages is simply a list of type AnyMessage.meaning its a list of messages"
      ],
      "metadata": {
        "id": "V6egqtsijkPa"
      }
    },
    {
      "cell_type": "code",
      "source": [
        "\n",
        "from typing_extensions import TypedDict\n",
        "from typing import Annotated\n",
        "from langchain_core.messages import AnyMessage\n",
        "from langgraph.graph.message import add_messages\n",
        "\n",
        "class MessagesState(TypedDict):\n",
        "    messages: Annotated[list[AnyMessage], add_messages]"
      ],
      "metadata": {
        "id": "9Rl0pUkilmDt"
      },
      "execution_count": null,
      "outputs": []
    },
    {
      "cell_type": "code",
      "source": [
        "initial_messages = [AIMessage(content=f\"How can i assist you today?\", name=\"sarah\"),\n",
        "                   HumanMessage(content=f\"I want to learn Langgraph.\", name=\"Shaikh\")\n",
        "                   ]\n",
        "\n",
        "new_messages = AIMessage(content=\"Sure i can help with that where do you want to start?\", name=\"sarah\")\n",
        "\n",
        "add_messages(initial_messages, new_messages)\n"
      ],
      "metadata": {
        "colab": {
          "base_uri": "https://localhost:8080/"
        },
        "id": "UGpLl7jw1lwy",
        "outputId": "9caf4a00-2299-4026-91c6-8210552faa63"
      },
      "execution_count": null,
      "outputs": [
        {
          "output_type": "execute_result",
          "data": {
            "text/plain": [
              "[AIMessage(content='How can i assist you today?', additional_kwargs={}, response_metadata={}, name='sarah', id='bbbd5ed7-9151-473a-9fea-172a41a03e26'),\n",
              " HumanMessage(content='I want to learn Langgraph.', additional_kwargs={}, response_metadata={}, name='Shaikh', id='649e718a-d35c-4ad8-b983-351748d3896d'),\n",
              " AIMessage(content='Sure i can help with that where do you want to start?', additional_kwargs={}, response_metadata={}, name='sarah', id='705d6978-2adb-455d-9233-7ce37f6111aa')]"
            ]
          },
          "metadata": {},
          "execution_count": 32
        }
      ]
    },
    {
      "cell_type": "code",
      "source": [
        "from typing import Annotated\n",
        "from typing_extensions import TypedDict\n",
        "from langgraph.graph import StateGraph, START, END\n",
        "from langgraph.graph.message import AnyMessage,add_messages"
      ],
      "metadata": {
        "id": "8sGHSsBsya_o"
      },
      "execution_count": null,
      "outputs": []
    },
    {
      "cell_type": "code",
      "source": [
        "class State(TypedDict):\n",
        "  # Messages have the type \"list\". The 'add_messages' function\n",
        "  # in the annotation defines how this state key should be updated\n",
        "  # (in this case, it appends messages to the list, rather than overwriting them)\n",
        "    messages: Annotated[list[AnyMessage], add_messages]"
      ],
      "metadata": {
        "id": "ZGTCA7dZ7IqC"
      },
      "execution_count": null,
      "outputs": []
    },
    {
      "cell_type": "markdown",
      "source": [
        "Build a chatbot by adding nodes and defing"
      ],
      "metadata": {
        "id": "ZQH3ldWepUdq"
      }
    },
    {
      "cell_type": "code",
      "source": [
        "graph_builder = StateGraph(State)\n",
        "\n",
        "def ChatBot(state):\n",
        "  return {'messages': llm.invoke(state['messages'])}\n",
        "\n",
        "graph_builder.add_node(\"ChatBot\", ChatBot)\n",
        "graph_builder.add_edge(START, \"ChatBot\")\n",
        "graph_builder.add_edge(\"ChatBot\", END)\n",
        "\n",
        "graph = graph_builder.compile()\n",
        "# graph.invoke({'messages': 'my name is zain shaikh'})"
      ],
      "metadata": {
        "id": "rGNGhJsv9X2x"
      },
      "execution_count": null,
      "outputs": []
    },
    {
      "cell_type": "code",
      "source": [
        "from IPython.display import Image, display\n",
        "try:\n",
        "    display(Image(graph.get_graph().draw_mermaid_png()))\n",
        "except Exception:\n",
        "    pass"
      ],
      "metadata": {
        "colab": {
          "base_uri": "https://localhost:8080/",
          "height": 251
        },
        "id": "ynSlSoHDAkzb",
        "outputId": "36889523-92bd-4c0c-c9ba-a44128f6e77a"
      },
      "execution_count": null,
      "outputs": [
        {
          "output_type": "display_data",
          "data": {
            "image/jpeg": "[encoded data removed]",
            "text/plain": [
              "<IPython.core.display.Image object>"
            ]
          },
          "metadata": {}
        }
      ]
    },
    {
      "cell_type": "code",
      "source": [
        "while True:\n",
        "  user_input=input(\"User: \")\n",
        "  if user_input.lower() in [\"exit\" , \"quit\"]:\n",
        "    print(\"goodBye\")\n",
        "    break\n",
        "  for event in graph.stream({'messages':(\"user\", user_input)}):\n",
        "    # print(event.values())\n",
        "    for value in event.values():\n",
        "    #  print(value['messages'])\n",
        "     print(\"Assistant:\",value['messages'].content)\n",
        "\n"
      ],
      "metadata": {
        "colab": {
          "base_uri": "https://localhost:8080/"
        },
        "id": "ZxqymLYSLUKk",
        "outputId": "72998a88-7a86-46ad-d179-5abd6a6c5662"
      },
      "execution_count": null,
      "outputs": [
        {
          "output_type": "stream",
          "name": "stdout",
          "text": [
            "User: what is device\n",
            "Assistant: The term \"device\" is incredibly broad and can refer to many different things depending on the context.  To help me give you a more specific answer, could you please tell me:\n",
            "\n",
            "* **What kind of device are you interested in?** For example, are you thinking about:\n",
            "    * **Electronic devices:** like smartphones, computers, TVs, etc.\n",
            "    * **Mechanical devices:** like cars, bicycles, tools, etc.\n",
            "    * **Medical devices:** like pacemakers, hearing aids, etc.\n",
            "    * **Something else entirely?** \n",
            "\n",
            "Once I know what kind of device you're interested in, I can give you a more relevant and helpful answer. \n",
            "\n",
            "User: never mind\n",
            "Assistant: No problem! Is there anything else I can help you with? \n",
            "\n",
            "User: no exit\n",
            "Assistant: \"No Exit\" is a play by Jean-Paul Sartre, a prominent figure in existentialist philosophy. It's a short, intense work that explores themes of isolation, existential angst, and the nature of hell. \n",
            "\n",
            "Here's a breakdown of the play's key elements:\n",
            "\n",
            "**Setting:**  The play takes place in a single room, described as \"a second-class hotel room.\" The room is sparsely furnished with a few chairs, a table, and a broken mirror.  The lack of windows and the heavy, locked door create a sense of confinement and claustrophobia.\n",
            "\n",
            "**Characters:**\n",
            "\n",
            "* **Garcin:** A journalist who claims to have been executed by the Nazis, but who may have been motivated by cowardice. He is arrogant and self-absorbed.\n",
            "* **Inez:** A woman who claims to have killed her lover. She is cynical and manipulative.\n",
            "* ** Estelle:** A young woman who claims to have killed her own child. She is vain and narcissistic.\n",
            "\n",
            "**Plot:**\n",
            "\n",
            "The play begins with Garcin entering the room. He soon discovers he is not alone.  Inez and Estelle arrive, each claiming to be in \"hell.\"  The room is described as \"hell\" not because of physical torment, but because of the inescapable presence of others. The characters are forced to confront their own guilt and the unbearable burden of their actions.\n",
            "\n",
            "**Themes:**\n",
            "\n",
            "* **Existentialism:** The play explores the themes of freedom, responsibility, and the meaninglessness of existence. The characters are condemned to face themselves and their choices, without the comfort of external meaning or purpose.\n",
            "* **Isolation:** The characters are trapped in the room, unable to escape the presence of each other.  The room becomes a metaphor for the human condition, where we are all ultimately alone.\n",
            "* **Guilt and Shame:** The characters are haunted by their past actions and the weight of their guilt. They are forced to confront their own moral failures and the consequences of their choices.\n",
            "* **The Nature of Hell:** Sartre's \"hell\" is not a place of physical torment, but a state of being. It is defined by the inescapable presence of others and the constant judgment of our own actions.\n",
            "\n",
            "**Key Quotes:**\n",
            "\n",
            "* \"Hell is other people.\" (Garcin)\n",
            "* \"What a beautiful thing to be alone at last.\" (Estelle)\n",
            "* \"We are all condemned to be free.\" (Sartre)\n",
            "\n",
            "**Significance:**\n",
            "\n",
            "\"No Exit\" is a powerful and disturbing play that continues to resonate with audiences today. It raises profound questions about the nature of human existence, the consequences of our actions, and the search for meaning in a seemingly meaningless world. \n",
            "\n",
            "User: exit\n",
            "goodBye\n"
          ]
        }
      ]
    },
    {
      "cell_type": "code",
      "source": [
        "%pip install -q -U langchain_community wikipedia Arxiv\n"
      ],
      "metadata": {
        "id": "K3Newhhq-FIf",
        "colab": {
          "base_uri": "https://localhost:8080/"
        },
        "outputId": "c2ee26b8-b8f1-4f14-d583-eff533036f17"
      },
      "execution_count": null,
      "outputs": [
        {
          "output_type": "stream",
          "name": "stdout",
          "text": [
            "  Preparing metadata (setup.py) ... \u001b[?25l\u001b[?25hdone\n",
            "  Preparing metadata (setup.py) ... \u001b[?25l\u001b[?25hdone\n",
            "\u001b[2K   \u001b[90m━━━━━━━━━━━━━━━━━━━━━━━━━━━━━━━━━━━━━━━━\u001b[0m \u001b[32m2.4/2.4 MB\u001b[0m \u001b[31m32.6 MB/s\u001b[0m eta \u001b[36m0:00:00\u001b[0m\n",
            "\u001b[2K   \u001b[90m━━━━━━━━━━━━━━━━━━━━━━━━━━━━━━━━━━━━━━━━\u001b[0m \u001b[32m81.3/81.3 kB\u001b[0m \u001b[31m5.1 MB/s\u001b[0m eta \u001b[36m0:00:00\u001b[0m\n",
            "\u001b[2K   \u001b[90m━━━━━━━━━━━━━━━━━━━━━━━━━━━━━━━━━━━━━━━━\u001b[0m \u001b[32m1.0/1.0 MB\u001b[0m \u001b[31m33.0 MB/s\u001b[0m eta \u001b[36m0:00:00\u001b[0m\n",
            "\u001b[2K   \u001b[90m━━━━━━━━━━━━━━━━━━━━━━━━━━━━━━━━━━━━━━━━\u001b[0m \u001b[32m49.3/49.3 kB\u001b[0m \u001b[31m2.9 MB/s\u001b[0m eta \u001b[36m0:00:00\u001b[0m\n",
            "\u001b[?25h  Building wheel for wikipedia (setup.py) ... \u001b[?25l\u001b[?25hdone\n",
            "  Building wheel for sgmllib3k (setup.py) ... \u001b[?25l\u001b[?25hdone\n"
          ]
        }
      ]
    },
    {
      "cell_type": "code",
      "source": [
        "from langchain_community.utilities import WikipediaAPIWrapper, ArxivAPIWrapper\n",
        "from langchain_community.tools import WikipediaQueryRun, ArxivQueryRun\n",
        "\n",
        "WikipediaWrapper = WikipediaAPIWrapper(top_k_results=1, doc_content_chars_max=300)\n",
        "ArxivWrapper = ArxivAPIWrapper(top_k_results=1, doc_content_chars_max=300)\n",
        "\n",
        "wikipedia_tool = WikipediaQueryRun(api_wrapper=WikipediaWrapper)\n",
        "arxiv_tool = ArxivQueryRun(api_wrapper=ArxivWrapper)"
      ],
      "metadata": {
        "id": "YYQv7XvC-k8s"
      },
      "execution_count": null,
      "outputs": []
    },
    {
      "cell_type": "code",
      "source": [
        "wikipedia_tool.invoke(\"what is ak 47\")"
      ],
      "metadata": {
        "colab": {
          "base_uri": "https://localhost:8080/",
          "height": 87
        },
        "id": "dfp1EdkABPOr",
        "outputId": "77773bd4-8297-40ca-b706-c4650c18c688"
      },
      "execution_count": null,
      "outputs": [
        {
          "output_type": "execute_result",
          "data": {
            "text/plain": [
              "'Page: AK-47 (cannabis)\\nSummary: AK-47, also known simply as AK, is a cannabis strain with high THC content. It is a hybrid strain of cannabis that is sativa-dominant; it mixes Colombian, Mexican, Thai, and Afghan strains. A strong and popular strain, it has won multiple cannabis industry awards. The'"
            ],
            "application/vnd.google.colaboratory.intrinsic+json": {
              "type": "string"
            }
          },
          "metadata": {},
          "execution_count": 8
        }
      ]
    },
    {
      "cell_type": "code",
      "source": [
        "tools=[wikipedia_tool,arxiv_tool]"
      ],
      "metadata": {
        "id": "IpkCJK0eBzDU"
      },
      "execution_count": null,
      "outputs": []
    },
    {
      "cell_type": "code",
      "source": [
        "from typing import Annotated\n",
        "from typing_extensions import TypedDict\n",
        "from langchain_core.messages import AnyMessage\n",
        "from langgraph.graph.message import add_messages\n",
        "\n",
        "class MessagesState(TypedDict):\n",
        "    messages: Annotated[list, add_messages]\n"
      ],
      "metadata": {
        "id": "BsSjufrCBrKj"
      },
      "execution_count": null,
      "outputs": []
    },
    {
      "cell_type": "code",
      "source": [
        "llm_with_tools = llm.bind_tools(tools=tools)"
      ],
      "metadata": {
        "colab": {
          "base_uri": "https://localhost:8080/"
        },
        "id": "uKg7l3j2IaPM",
        "outputId": "45d7dce7-8b1a-4ac8-ff90-4df69f5f2245"
      },
      "execution_count": null,
      "outputs": [
        {
          "output_type": "stream",
          "name": "stderr",
          "text": [
            "WARNING:langchain_google_genai._function_utils:Key 'title' is not supported in schema, ignoring\n",
            "WARNING:langchain_google_genai._function_utils:Key 'title' is not supported in schema, ignoring\n",
            "WARNING:langchain_google_genai._function_utils:Key 'title' is not supported in schema, ignoring\n",
            "WARNING:langchain_google_genai._function_utils:Key 'title' is not supported in schema, ignoring\n"
          ]
        }
      ]
    },
    {
      "cell_type": "code",
      "source": [
        "#Nodes\n",
        "\n",
        "def RAGBot(state: MessagesState):\n",
        "  return {'messages': llm_with_tools.invoke(state['messages'])}\n",
        "\n",
        "# def Tool(state: MessagesState):\n",
        "#   return {'messages': tools.invoke(state['messages'])}"
      ],
      "metadata": {
        "id": "6sx3GBMXB5ya"
      },
      "execution_count": null,
      "outputs": []
    },
    {
      "cell_type": "code",
      "source": [
        "from langgraph.graph import StateGraph, START, END\n",
        "from langgraph.prebuilt import ToolNode,tools_condition\n",
        "\n",
        "graph_builder = StateGraph(MessagesState)\n",
        "toolNode = ToolNode(tools=tools)\n",
        "\n",
        "graph_builder.add_node(\"RAGBot\", RAGBot)\n",
        "graph_builder.add_node(\"tools\", toolNode)\n",
        "\n",
        "graph_builder.add_edge(START, \"RAGBot\")\n",
        "graph_builder.add_conditional_edges(\n",
        "    \"RAGBot\",\n",
        "    tools_condition\n",
        "\n",
        ")\n",
        "graph_builder.add_edge(\"tools\",\"RAGBot\")\n",
        "graph_builder.add_edge(\"RAGBot\", END)\n",
        "\n",
        "graph = graph_builder.compile()"
      ],
      "metadata": {
        "id": "KEuaQmqUCUG5"
      },
      "execution_count": null,
      "outputs": []
    },
    {
      "cell_type": "code",
      "source": [
        "from IPython.display import Image, display\n",
        "try:\n",
        "    display(Image(graph.get_graph().draw_mermaid_png()))\n",
        "except Exception:\n",
        "    pass"
      ],
      "metadata": {
        "colab": {
          "base_uri": "https://localhost:8080/",
          "height": 266
        },
        "id": "yOwyBuWZQM1f",
        "outputId": "7d399636-bd9a-4fed-ca10-10caf9f30f12"
      },
      "execution_count": null,
      "outputs": [
        {
          "output_type": "display_data",
          "data": {
            "image/jpeg": "[encoded data removed]",
            "text/plain": [
              "<IPython.core.display.Image object>"
            ]
          },
          "metadata": {}
        }
      ]
    },
    {
      "cell_type": "code",
      "source": [
        "user_input =\"Hi there!, who is Shahrukhkhan\"\n",
        "\n",
        "events = graph.stream(\n",
        "    {'messages':[(\"user\", user_input)]},stream_mode=\"values\"\n",
        "    )\n",
        "\n",
        "for event in events:\n",
        "  event['messages'][-1].pretty_print()"
      ],
      "metadata": {
        "colab": {
          "base_uri": "https://localhost:8080/"
        },
        "id": "4x13uqvZQTTx",
        "outputId": "d2442f35-f3b4-4423-c352-9ef83c5df613"
      },
      "execution_count": null,
      "outputs": [
        {
          "output_type": "stream",
          "name": "stdout",
          "text": [
            "================================\u001b[1m Human Message \u001b[0m=================================\n",
            "\n",
            "Hi there!, who is Shahrukhkhan\n",
            "==================================\u001b[1m Ai Message \u001b[0m==================================\n",
            "Tool Calls:\n",
            "  wikipedia (f42d48b8-3d3b-404b-8792-ad45f6835ac8)\n",
            " Call ID: f42d48b8-3d3b-404b-8792-ad45f6835ac8\n",
            "  Args:\n",
            "    query: Shahrukhkhan\n",
            "=================================\u001b[1m Tool Message \u001b[0m=================================\n",
            "Name: wikipedia\n",
            "\n",
            "Page: Shah Rukh Khan\n",
            "Summary: Shah Rukh Khan (pronounced [ˈʃɑːɦɾʊx xɑːn] ; born 2 November 1965), also known by the initialism SRK, is an Indian actor and film producer who works in Hindi cinema. Referred to in the media as the \"Baadshah of Bollywood\" and \"King Khan\", he has appeared in more than 10\n",
            "==================================\u001b[1m Ai Message \u001b[0m==================================\n",
            "\n",
            "Shahrukh Khan is an Indian actor and film producer who works in Hindi cinema. Referred to in the media as the \"Baadshah of Bollywood\" and \"King Khan\", he has appeared in more than 100 Hindi films.\n"
          ]
        }
      ]
    }
  ]
}